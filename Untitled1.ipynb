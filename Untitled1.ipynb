{
  "nbformat": 4,
  "nbformat_minor": 0,
  "metadata": {
    "colab": {
      "name": "Untitled1.ipynb",
      "provenance": [],
      "authorship_tag": "ABX9TyPA8lkowUKLk1FRuMy0FcOw",
      "include_colab_link": true
    },
    "kernelspec": {
      "name": "python3",
      "display_name": "Python 3"
    },
    "language_info": {
      "name": "python"
    }
  },
  "cells": [
    {
      "cell_type": "markdown",
      "metadata": {
        "id": "view-in-github",
        "colab_type": "text"
      },
      "source": [
        "<a href=\"https://colab.research.google.com/github/manefei/ie-trends-activity/blob/main/Untitled1.ipynb\" target=\"_parent\"><img src=\"https://colab.research.google.com/assets/colab-badge.svg\" alt=\"Open In Colab\"/></a>"
      ]
    },
    {
      "cell_type": "code",
      "metadata": {
        "id": "RZcrYptMxelc"
      },
      "source": [
        ""
      ],
      "execution_count": null,
      "outputs": []
    },
    {
      "cell_type": "markdown",
      "metadata": {
        "id": "SGtA9A_Kxgsc"
      },
      "source": [
        ""
      ]
    },
    {
      "cell_type": "code",
      "metadata": {
        "id": "k5bL5IYawCZ2"
      },
      "source": [
        ""
      ],
      "execution_count": null,
      "outputs": []
    },
    {
      "cell_type": "markdown",
      "metadata": {
        "id": "Ozg8D5YVwE1s"
      },
      "source": [
        "# Python Basics\n",
        "This section reviews fundamentals using python."
      ]
    },
    {
      "cell_type": "markdown",
      "metadata": {
        "id": "4NyXA4A7xqCR"
      },
      "source": [
        "#Variables and Values\n",
        "\n"
      ]
    },
    {
      "cell_type": "code",
      "metadata": {
        "id": "Gi4p9UqCxvhb"
      },
      "source": [
        "x=10\n",
        "y=3.14\n",
        "\n",
        "\n"
      ],
      "execution_count": 12,
      "outputs": []
    },
    {
      "cell_type": "markdown",
      "metadata": {
        "id": "2DittJLe3Sfs"
      },
      "source": [
        "#Printing\n"
      ]
    },
    {
      "cell_type": "code",
      "metadata": {
        "colab": {
          "base_uri": "https://localhost:8080/"
        },
        "id": "PVLcD4P53U5a",
        "outputId": "332e3478-f218-491b-83ef-5b21440d1233"
      },
      "source": [
        "print(x)\n",
        "print(y)\n"
      ],
      "execution_count": 13,
      "outputs": [
        {
          "output_type": "stream",
          "text": [
            "10\n",
            "3.14\n"
          ],
          "name": "stdout"
        }
      ]
    },
    {
      "cell_type": "markdown",
      "metadata": {
        "id": "OtEV9LcGzOPc"
      },
      "source": [
        "#Operations\n"
      ]
    },
    {
      "cell_type": "code",
      "metadata": {
        "colab": {
          "base_uri": "https://localhost:8080/"
        },
        "id": "qP1Wq0mr1ETV",
        "outputId": "4073d7f4-5b4f-40c9-c17d-678aef781e93"
      },
      "source": [
        "## Addition (also a comment line)\n",
        "z1=x+y\n",
        "##Subtraction\n",
        "z2=x-y\n",
        "##Multiplication\n",
        "z3=x*y\n",
        "##Division\n",
        "z4=x/y\n",
        "## PEMDAS\n",
        "x*(y-10)/5\n"
      ],
      "execution_count": 14,
      "outputs": [
        {
          "output_type": "execute_result",
          "data": {
            "text/plain": [
              "-13.719999999999999"
            ]
          },
          "metadata": {
            "tags": []
          },
          "execution_count": 14
        }
      ]
    },
    {
      "cell_type": "markdown",
      "metadata": {
        "id": "-DSqFd4V4YgP"
      },
      "source": [
        "# Coding\n"
      ]
    },
    {
      "cell_type": "code",
      "metadata": {
        "colab": {
          "base_uri": "https://localhost:8080/"
        },
        "id": "zn8i1jPG4Q9M",
        "outputId": "f4c0cf44-0985-40ed-bb40-a660b968de6a"
      },
      "source": [
        "## Exponentiation\n",
        "z5=2**5\n",
        "## Floor Division\n",
        "z6=round(19/2)\n",
        "print(z6)\n",
        "##Trigonometric\n",
        "import math\n",
        "##math.sin(y)+math.cos(x)\n"
      ],
      "execution_count": 16,
      "outputs": [
        {
          "output_type": "stream",
          "text": [
            "10\n"
          ],
          "name": "stdout"
        }
      ]
    },
    {
      "cell_type": "code",
      "metadata": {
        "colab": {
          "base_uri": "https://localhost:8080/"
        },
        "id": "fzk1SF6_4p1G",
        "outputId": "0f79db90-eeb7-4e28-9836-2beafa9ef057"
      },
      "source": [
        "##Exponentiation \n",
        "z5=2**5\n",
        "##Floor Division\n",
        "z6=x//y\n",
        "##Trigonometric\n",
        "import math\n",
        "math.sin(y)+math.cos(x)"
      ],
      "execution_count": 17,
      "outputs": [
        {
          "output_type": "execute_result",
          "data": {
            "text/plain": [
              "-0.8374788761599656"
            ]
          },
          "metadata": {
            "tags": []
          },
          "execution_count": 17
        }
      ]
    },
    {
      "cell_type": "markdown",
      "metadata": {
        "id": "A1jD_7Od5cEX"
      },
      "source": [
        "# Loops\n"
      ]
    },
    {
      "cell_type": "code",
      "metadata": {
        "colab": {
          "base_uri": "https://localhost:8080/"
        },
        "id": "xdhqkt8G5ej-",
        "outputId": "e1b29d81-8d73-4a4b-a5c2-c1b2ca652aed"
      },
      "source": [
        "for i in range(0,10):\n",
        "  print(i+1)\n",
        "  print(i)"
      ],
      "execution_count": 18,
      "outputs": [
        {
          "output_type": "stream",
          "text": [
            "1\n",
            "0\n",
            "2\n",
            "1\n",
            "3\n",
            "2\n",
            "4\n",
            "3\n",
            "5\n",
            "4\n",
            "6\n",
            "5\n",
            "7\n",
            "6\n",
            "8\n",
            "7\n",
            "9\n",
            "8\n",
            "10\n",
            "9\n"
          ],
          "name": "stdout"
        }
      ]
    },
    {
      "cell_type": "code",
      "metadata": {
        "colab": {
          "base_uri": "https://localhost:8080/"
        },
        "id": "Kh5JtOcW5sYN",
        "outputId": "cb71f69e-850e-4f58-de0d-7f379ea0a848"
      },
      "source": [
        "for i in range(0,10):\n",
        "  print(\"Hello\")\n",
        "  print(\"World\")"
      ],
      "execution_count": 19,
      "outputs": [
        {
          "output_type": "stream",
          "text": [
            "Hello\n",
            "World\n",
            "Hello\n",
            "World\n",
            "Hello\n",
            "World\n",
            "Hello\n",
            "World\n",
            "Hello\n",
            "World\n",
            "Hello\n",
            "World\n",
            "Hello\n",
            "World\n",
            "Hello\n",
            "World\n",
            "Hello\n",
            "World\n",
            "Hello\n",
            "World\n"
          ],
          "name": "stdout"
        }
      ]
    },
    {
      "cell_type": "code",
      "metadata": {
        "colab": {
          "base_uri": "https://localhost:8080/"
        },
        "id": "SEwRC6Dz53hq",
        "outputId": "bed9c12f-bcb8-48ff-b35d-2878c07f9060"
      },
      "source": [
        "for i in range(0,10):\n",
        "  tz=math.sin(i)+math.cos(i+math.pi)\n",
        "  print(tz)"
      ],
      "execution_count": 20,
      "outputs": [
        {
          "output_type": "stream",
          "text": [
            "-1.0\n",
            "0.30116867893975674\n",
            "1.325444263372824\n",
            "1.1311125046603125\n",
            "-0.10315887444431615\n",
            "-1.2425864601263645\n",
            "-1.2395857848492917\n",
            "-0.09691565562451565\n",
            "1.134858280431995\n",
            "1.3232487471264336\n"
          ],
          "name": "stdout"
        }
      ]
    },
    {
      "cell_type": "code",
      "metadata": {
        "colab": {
          "base_uri": "https://localhost:8080/"
        },
        "id": "WiruM5OJ6ZNj",
        "outputId": "83200d11-4f93-4bde-c6dc-eef095975227"
      },
      "source": [
        "tz=0\n",
        "for i in range(0,10):\n",
        "  print(tz)\n",
        "  tz+=1\n",
        "  #print(tz)"
      ],
      "execution_count": 22,
      "outputs": [
        {
          "output_type": "stream",
          "text": [
            "0\n",
            "1\n",
            "2\n",
            "3\n",
            "4\n",
            "5\n",
            "6\n",
            "7\n",
            "8\n",
            "9\n"
          ],
          "name": "stdout"
        }
      ]
    },
    {
      "cell_type": "code",
      "metadata": {
        "colab": {
          "base_uri": "https://localhost:8080/",
          "height": 135
        },
        "id": "P3JjKAY76kr3",
        "outputId": "5a54d35e-1d73-43e8-edfb-0807a053cb44"
      },
      "source": [
        "## Summation\n",
        "tz=0\n",
        "for i in range(0,10): ##range(min.max) --> min to max-1\n",
        "tz+=math.sin(i)+math.cos(i+math.pi)\n",
        "print(tz)\n"
      ],
      "execution_count": 24,
      "outputs": [
        {
          "output_type": "error",
          "ename": "IndentationError",
          "evalue": "ignored",
          "traceback": [
            "\u001b[0;36m  File \u001b[0;32m\"<ipython-input-24-86ff07d644c0>\"\u001b[0;36m, line \u001b[0;32m4\u001b[0m\n\u001b[0;31m    tz+=math.sin(i)+math.cos(i+math.pi)\u001b[0m\n\u001b[0m     ^\u001b[0m\n\u001b[0;31mIndentationError\u001b[0m\u001b[0;31m:\u001b[0m expected an indented block\n"
          ]
        }
      ]
    },
    {
      "cell_type": "code",
      "metadata": {
        "id": "O8HwFwKU7M5P"
      },
      "source": [
        ""
      ],
      "execution_count": null,
      "outputs": []
    },
    {
      "cell_type": "markdown",
      "metadata": {
        "id": "5ytyWdJR7RP3"
      },
      "source": [
        "# Functions\n"
      ]
    },
    {
      "cell_type": "code",
      "metadata": {
        "colab": {
          "base_uri": "https://localhost:8080/"
        },
        "id": "kwM8OaK87T07",
        "outputId": "0bdeb0d2-4224-4fed-92f9-ff161a90a8c5"
      },
      "source": [
        "s=0\n",
        "for i in range(0,10):\n",
        "  s+=i\n",
        "  h=s-i**2\n",
        "  print(h)\n",
        "  "
      ],
      "execution_count": 25,
      "outputs": [
        {
          "output_type": "stream",
          "text": [
            "0\n",
            "0\n",
            "-1\n",
            "-3\n",
            "-6\n",
            "-10\n",
            "-15\n",
            "-21\n",
            "-28\n",
            "-36\n"
          ],
          "name": "stdout"
        }
      ]
    },
    {
      "cell_type": "code",
      "metadata": {
        "colab": {
          "base_uri": "https://localhost:8080/",
          "height": 135
        },
        "id": "9RtrREP-7c20",
        "outputId": "a7ab58f6-b4c9-476e-848d-fa728765cf86"
      },
      "source": [
        "def equation(s,i):\n",
        "  return h=s-i**2\n",
        "  "
      ],
      "execution_count": 26,
      "outputs": [
        {
          "output_type": "error",
          "ename": "SyntaxError",
          "evalue": "ignored",
          "traceback": [
            "\u001b[0;36m  File \u001b[0;32m\"<ipython-input-26-5b804d99a7d8>\"\u001b[0;36m, line \u001b[0;32m2\u001b[0m\n\u001b[0;31m    return h=s-i**2\u001b[0m\n\u001b[0m            ^\u001b[0m\n\u001b[0;31mSyntaxError\u001b[0m\u001b[0;31m:\u001b[0m invalid syntax\n"
          ]
        }
      ]
    },
    {
      "cell_type": "code",
      "metadata": {
        "id": "GOieztel46Ww"
      },
      "source": [
        ""
      ],
      "execution_count": null,
      "outputs": []
    }
  ]
}